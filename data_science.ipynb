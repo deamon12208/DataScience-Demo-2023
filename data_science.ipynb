{
  "nbformat": 4,
  "nbformat_minor": 0,
  "metadata": {
    "colab": {
      "provenance": [],
      "toc_visible": true,
      "authorship_tag": "ABX9TyP9OcxTnGe/z4l1EMHBpJ5y",
      "include_colab_link": true
    },
    "kernelspec": {
      "name": "python3",
      "display_name": "Python 3"
    },
    "language_info": {
      "name": "python"
    }
  },
  "cells": [
    {
      "cell_type": "markdown",
      "metadata": {
        "id": "view-in-github",
        "colab_type": "text"
      },
      "source": [
        "<a href=\"https://colab.research.google.com/github/deamon12208/DataScience-Demo-2023/blob/main/data_science.ipynb\" target=\"_parent\"><img src=\"https://colab.research.google.com/assets/colab-badge.svg\" alt=\"Open In Colab\"/></a>"
      ]
    },
    {
      "cell_type": "markdown",
      "source": [
        "# Ingest\n"
      ],
      "metadata": {
        "id": "ZnSBdLNJo_CK"
      }
    },
    {
      "cell_type": "code",
      "source": [],
      "metadata": {
        "id": "ubIZDhxvpkwS"
      },
      "execution_count": null,
      "outputs": []
    },
    {
      "cell_type": "markdown",
      "source": [
        "# EDA\n"
      ],
      "metadata": {
        "id": "AZ54y02ZpGDT"
      }
    },
    {
      "cell_type": "code",
      "source": [],
      "metadata": {
        "id": "0D7SSwMKpl0L"
      },
      "execution_count": null,
      "outputs": []
    },
    {
      "cell_type": "markdown",
      "source": [
        "# Modeling"
      ],
      "metadata": {
        "id": "wZgKrId6pRhN"
      }
    },
    {
      "cell_type": "code",
      "source": [],
      "metadata": {
        "id": "4ZgkgCdBpmtq"
      },
      "execution_count": null,
      "outputs": []
    },
    {
      "cell_type": "markdown",
      "source": [
        "# Conclusion\n"
      ],
      "metadata": {
        "id": "46y2x2mVpV1F"
      }
    },
    {
      "cell_type": "code",
      "source": [],
      "metadata": {
        "id": "zqcWTD4ppnja"
      },
      "execution_count": null,
      "outputs": []
    }
  ]
}